{
 "cells": [
  {
   "cell_type": "markdown",
   "metadata": {},
   "source": [
    "Read the csv file. It starts getting slow when loading more than 100k records. Amir said ok to work with a subset so that's what I'm doing here"
   ]
  },
  {
   "cell_type": "code",
   "execution_count": 24,
   "metadata": {},
   "outputs": [],
   "source": [
    "# starts getting slow when loading more than 100k records. Amir said ok to work with a subset\n",
    "import pandas as pd\n",
    "import numpy as np\n",
    "import scipy.stats as st\n",
    "filename = 'C:/data/properties_2017.csv'\n",
    "df = pd.read_csv(filename, nrows = 100000)"
   ]
  },
  {
   "cell_type": "markdown",
   "metadata": {},
   "source": [
    "Data Wrangling Step #1: replace True/False with 1 and 0"
   ]
  },
  {
   "cell_type": "code",
   "execution_count": 25,
   "metadata": {
    "collapsed": true
   },
   "outputs": [],
   "source": [
    "replace_true_false_col_list = ['fireplaceflag',\n",
    "'hashottuborspa',\n",
    "'taxdelinquencyflag']\n",
    "\n",
    "# replacing True with 1 from column's i'm identifying\n",
    "df[replace_true_false_col_list] = df[replace_true_false_col_list].replace(True,1)\n",
    "\n",
    "# replacing NaN (False) with 0 from column's i'm identifying\n",
    "df[replace_true_false_col_list] = df[replace_true_false_col_list].fillna(0)"
   ]
  },
  {
   "cell_type": "markdown",
   "metadata": {},
   "source": [
    "Data Wrangling Step #2: remove records with NaN values in taxvaluedollarcnt. This is my target feature moving forward and cannot have null values"
   ]
  },
  {
   "cell_type": "code",
   "execution_count": 26,
   "metadata": {
    "collapsed": true
   },
   "outputs": [],
   "source": [
    "drop_null_col_list = ['taxvaluedollarcnt']"
   ]
  },
  {
   "cell_type": "code",
   "execution_count": 27,
   "metadata": {
    "collapsed": true
   },
   "outputs": [],
   "source": [
    "df = df.dropna(axis=0, subset=drop_null_col_list)"
   ]
  },
  {
   "cell_type": "markdown",
   "metadata": {},
   "source": [
    "Data Wrangling Step #3: replace NaN with 0 for poolcnt in order to do Statistical Analysis #1"
   ]
  },
  {
   "cell_type": "code",
   "execution_count": 28,
   "metadata": {
    "collapsed": true
   },
   "outputs": [],
   "source": [
    "replace_nan = ['poolcnt']"
   ]
  },
  {
   "cell_type": "code",
   "execution_count": 29,
   "metadata": {
    "collapsed": true
   },
   "outputs": [],
   "source": [
    "# replacing NaN (False) with 0 from column's i'm identifying\n",
    "df[replace_nan] = df[replace_nan].fillna(0)"
   ]
  },
  {
   "cell_type": "markdown",
   "metadata": {},
   "source": [
    "Data Wrangling Step #4: Divid taxvaluedollarcnt by 1000. This makes all house values in thousands"
   ]
  },
  {
   "cell_type": "code",
   "execution_count": 30,
   "metadata": {
    "collapsed": true
   },
   "outputs": [],
   "source": [
    "df['taxvaluedollarcnt'] = df['taxvaluedollarcnt']/1000"
   ]
  },
  {
   "cell_type": "code",
   "execution_count": null,
   "metadata": {
    "collapsed": true
   },
   "outputs": [],
   "source": []
  },
  {
   "cell_type": "code",
   "execution_count": null,
   "metadata": {
    "collapsed": true
   },
   "outputs": [],
   "source": []
  },
  {
   "cell_type": "markdown",
   "metadata": {},
   "source": [
    "Statistical Analysis #1: Is the mean housing price of a home with over 3 garages same as a house with a hot tub/spa. We will be testing the null hypothesis that the mean housing price is the same of the two samples. "
   ]
  },
  {
   "cell_type": "markdown",
   "metadata": {},
   "source": [
    "Result: Based on my findings, it can be said with a 99% significance level that houses with 3 or more garages have different prices than houses with hot tub/spa's.  "
   ]
  },
  {
   "cell_type": "code",
   "execution_count": 31,
   "metadata": {},
   "outputs": [
    {
     "name": "stdout",
     "output_type": "stream",
     "text": [
      "1380.39371327\n",
      "1127.05131495\n"
     ]
    }
   ],
   "source": [
    "# exploratory analysis and seperating the data sets\n",
    "#print(df.hashottuborspa.value_counts(dropna=False))\n",
    "#print(df.garagecarcnt.value_counts(dropna=False))\n",
    "\n",
    "\n",
    "over_three_garages = df[df['garagecarcnt']>=3]\n",
    "hashottuborspa = df[df['hashottuborspa']==1]\n",
    "over_three_garages_mean = np.mean(over_three_garages['taxvaluedollarcnt'])\n",
    "hashottuborspa_mean = np.mean(hashottuborspa['taxvaluedollarcnt'])\n",
    "print over_three_garages_mean\n",
    "print hashottuborspa_mean\n"
   ]
  },
  {
   "cell_type": "code",
   "execution_count": 32,
   "metadata": {},
   "outputs": [
    {
     "name": "stdout",
     "output_type": "stream",
     "text": [
      "the t-score is 3.37559920142\n",
      "the p-value is 0.000736551331998\n"
     ]
    }
   ],
   "source": [
    "# first will try the frequentist approach using a t test\n",
    "std_over_three_garages =  np.std(over_three_garages['taxvaluedollarcnt'])\n",
    "std_hashottuborspa = np.std(hashottuborspa['taxvaluedollarcnt'])\n",
    "numerator = over_three_garages_mean - hashottuborspa_mean\n",
    "denominator = np.sqrt((std_over_three_garages**2/len(over_three_garages['taxvaluedollarcnt'])) + (std_hashottuborspa**2/len(hashottuborspa['taxvaluedollarcnt'])))\n",
    "t = numerator / denominator\n",
    "p_values_t = st.norm.sf(abs(t))*2\n",
    "\n",
    "print 'the t-score is', t\n",
    "print 'the p-value is', p_values_t"
   ]
  },
  {
   "cell_type": "code",
   "execution_count": 33,
   "metadata": {
    "collapsed": true
   },
   "outputs": [],
   "source": [
    "## next will try the bayesian approach to double check \n",
    "#first need to set up functions that will be used for analysis\n",
    "\n",
    "def diff_of_means(data_1, data_2):\n",
    "    #\"\"\"Difference in means of two arrays.\"\"\"\n",
    "\n",
    "    # The difference of means of data_1, data_2: diff\n",
    "    diff = np.mean(data_1) - np.mean(data_2)\n",
    "\n",
    "    return diff\n",
    "\n",
    "\n",
    "def draw_perm_reps(data_1, data_2, func, size=1):\n",
    "    #\"\"\"Generate multiple permutation replicates.\"\"\"\n",
    "\n",
    "    # Initialize array of replicates: perm_replicates\n",
    "    perm_replicates = np.empty(size)\n",
    "\n",
    "    for i in range(size):\n",
    "        # Generate permutation sample\n",
    "        perm_sample_1, perm_sample_2 = permutation_sample(data_1, data_2)\n",
    "\n",
    "        # Compute the test statistic\n",
    "        perm_replicates[i] = func(perm_sample_1, perm_sample_2)\n",
    "\n",
    "    return perm_replicates\n",
    "\n",
    "def permutation_sample(data1, data2):\n",
    "    \"\"\"Generate a permutation sample from two data sets.\"\"\"\n",
    "\n",
    "    # Concatenate the data sets: data\n",
    "    data = np.concatenate((data1, data2))\n",
    "\n",
    "    # Permute the concatenated array: permuted_data\n",
    "    permuted_data = np.random.permutation(data)\n",
    "\n",
    "    # Split the permuted array into two: perm_sample_1, perm_sample_2\n",
    "    perm_sample_1 = permuted_data[:len(data1)]\n",
    "    perm_sample_2 = permuted_data[len(data1):]\n",
    "\n",
    "    return perm_sample_1, perm_sample_2"
   ]
  },
  {
   "cell_type": "code",
   "execution_count": 34,
   "metadata": {},
   "outputs": [
    {
     "name": "stdout",
     "output_type": "stream",
     "text": [
      "('p-value =', 0.0001)\n",
      "1380.39371327\n",
      "1127.05131495\n"
     ]
    }
   ],
   "source": [
    "# continue using the Bayesian approach\n",
    "\n",
    "over_three_garages = df[df['garagecarcnt']>=3]\n",
    "hashottuborspa = df[df['hashottuborspa']==1]\n",
    "over_three_garages_mean = np.mean(over_three_garages['taxvaluedollarcnt'])\n",
    "hashottuborspa_mean = np.mean(hashottuborspa['taxvaluedollarcnt'])\n",
    "\n",
    "\n",
    "# Compute difference of mean impact force from experiment: empirical_diff_means\n",
    "empirical_diff_means = diff_of_means(over_three_garages['taxvaluedollarcnt'], hashottuborspa['taxvaluedollarcnt'])\n",
    "\n",
    "# Draw 10,000 permutation replicates: perm_replicates\n",
    "perm_replicates = draw_perm_reps(over_three_garages['taxvaluedollarcnt'], hashottuborspa['taxvaluedollarcnt'],\n",
    "                                 diff_of_means, size=10000)\n",
    "\n",
    "# Compute p-value: p\n",
    "p = float(np.sum(perm_replicates >= empirical_diff_means)) / float(len(perm_replicates))\n",
    "\n",
    "# Print the result\n",
    "print('p-value =', p)\n",
    "print over_three_garages_mean\n",
    "print hashottuborspa_mean"
   ]
  },
  {
   "cell_type": "code",
   "execution_count": null,
   "metadata": {
    "collapsed": true
   },
   "outputs": [],
   "source": []
  },
  {
   "cell_type": "code",
   "execution_count": null,
   "metadata": {
    "collapsed": true
   },
   "outputs": [],
   "source": []
  },
  {
   "cell_type": "markdown",
   "metadata": {},
   "source": [
    "Statistical Analysis #2: Is the mean housing price of houses with multiple stories different than houses with central air conditioning?"
   ]
  },
  {
   "cell_type": "markdown",
   "metadata": {},
   "source": [
    "Result: Based on my findings, it can be said with a 99% significance level houses with multiple stories and houses with central air conditioning have similar housing prices"
   ]
  },
  {
   "cell_type": "code",
   "execution_count": 106,
   "metadata": {},
   "outputs": [
    {
     "name": "stdout",
     "output_type": "stream",
     "text": [
      "25142\n"
     ]
    }
   ],
   "source": [
    "# seperate out datasets\n",
    "multiple_stories = df[df['numberofstories']>1]\n",
    "\n",
    "#airconditioningtypeid = 1 is how you get central_ac  \n",
    "central_ac = df[df['airconditioningtypeid']==1]\n"
   ]
  },
  {
   "cell_type": "code",
   "execution_count": 102,
   "metadata": {},
   "outputs": [
    {
     "name": "stdout",
     "output_type": "stream",
     "text": [
      "the t-score is 0.2990123474\n",
      "the p-value is 0.764930624454\n",
      "the mean housing price of houses with multiple stories is  526.401738893\n",
      "the mean housing price of houses with central air conditioning is  523.618849734\n"
     ]
    }
   ],
   "source": [
    "# will use the frequentist approach using a t test\n",
    "mean_multiple_stories = np.mean(multiple_stories.taxvaluedollarcnt)\n",
    "mean_central_ac = np.mean(central_ac.taxvaluedollarcnt)\n",
    "std_multiple_stories =  np.std(multiple_stories['taxvaluedollarcnt'])\n",
    "std_central_ac = np.std(central_ac['taxvaluedollarcnt'])\n",
    "numerator = mean_multiple_stories - mean_central_ac\n",
    "denominator = np.sqrt((std_multiple_stories**2/len(multiple_stories['taxvaluedollarcnt'])) + (std_central_ac**2/len(central_ac['taxvaluedollarcnt'])))\n",
    "t = numerator / denominator\n",
    "p_values_t = st.norm.sf(abs(t))*2 \n",
    "\n",
    "print 'the t-score is', t\n",
    "print 'the p-value is', p_values_t\n",
    "print 'the mean housing price of houses with multiple stories is ', mean_multiple_stories\n",
    "print 'the mean housing price of houses with central air conditioning is ', mean_central_ac"
   ]
  },
  {
   "cell_type": "code",
   "execution_count": 103,
   "metadata": {},
   "outputs": [
    {
     "name": "stdout",
     "output_type": "stream",
     "text": [
      "('p-value =', 0.3785)\n",
      "526.401738893\n",
      "523.618849734\n"
     ]
    }
   ],
   "source": [
    "## next will try the bayesian approach to double check. functions used are previously definied in Statistical Analysis #1\n",
    "\n",
    "# Compute difference of mean impact force from experiment: empirical_diff_means\n",
    "empirical_diff_means = diff_of_means(multiple_stories['taxvaluedollarcnt'], central_ac['taxvaluedollarcnt'])\n",
    "\n",
    "# Draw 10,000 permutation replicates: perm_replicates\n",
    "perm_replicates = draw_perm_reps(multiple_stories['taxvaluedollarcnt'], central_ac['taxvaluedollarcnt'],\n",
    "                                 diff_of_means, size=10000)\n",
    "\n",
    "# Compute p-value: p\n",
    "p = float(np.sum(perm_replicates >= empirical_diff_means)) / float(len(perm_replicates))\n",
    "\n",
    "# Print the result\n",
    "print('p-value =', p)\n",
    "print mean_multiple_stories\n",
    "print mean_central_ac"
   ]
  },
  {
   "cell_type": "code",
   "execution_count": null,
   "metadata": {
    "collapsed": true
   },
   "outputs": [],
   "source": []
  },
  {
   "cell_type": "code",
   "execution_count": null,
   "metadata": {
    "collapsed": true
   },
   "outputs": [],
   "source": []
  },
  {
   "cell_type": "markdown",
   "metadata": {},
   "source": [
    "Statistical Analysis #3: Is the mean housing price of houses with decks different from the mean housing price of houses with pools? "
   ]
  },
  {
   "cell_type": "markdown",
   "metadata": {},
   "source": [
    "Result: Based on my findings, it can be said with a 99% significance level houses with pools and houses with decks have similar housing prices"
   ]
  },
  {
   "cell_type": "code",
   "execution_count": 68,
   "metadata": {},
   "outputs": [],
   "source": [
    "# set up datasets\n",
    "pool = df[df.poolcnt == 1 ]\n",
    "deck = df[df.decktypeid > 1 ]"
   ]
  },
  {
   "cell_type": "code",
   "execution_count": 74,
   "metadata": {
    "scrolled": true
   },
   "outputs": [
    {
     "name": "stdout",
     "output_type": "stream",
     "text": [
      "the t-score is 0.430349168986\n",
      "the p-value is 0.666941665245\n",
      "the mean housing price of houses with a pool is  660.862630741\n",
      "the mean housing price of houses with a deck is  650.715133333\n"
     ]
    }
   ],
   "source": [
    "# will use the frequentist approach using a t test\n",
    "mean_pool = np.mean(pool.taxvaluedollarcnt)\n",
    "mean_deck = np.mean(deck.taxvaluedollarcnt)\n",
    "std_pool =  np.std(pool['taxvaluedollarcnt'])\n",
    "std_deck = np.std(deck['taxvaluedollarcnt'])\n",
    "numerator = mean_pool - mean_deck\n",
    "denominator = np.sqrt((std_pool**2/len(pool['taxvaluedollarcnt'])) + (std_deck**2/len(deck['taxvaluedollarcnt'])))\n",
    "t = numerator / denominator\n",
    "p_values_t = st.norm.sf(abs(t))*2 \n",
    "\n",
    "print 'the t-score is', t\n",
    "print 'the p-value is', p_values_t\n",
    "print 'the mean housing price of houses with a pool is ', mean_pool\n",
    "print 'the mean housing price of houses with a deck is ', mean_deck"
   ]
  },
  {
   "cell_type": "code",
   "execution_count": 86,
   "metadata": {},
   "outputs": [
    {
     "name": "stdout",
     "output_type": "stream",
     "text": [
      "('p-value =', 0.4252)\n",
      "660.862630741\n",
      "650.715133333\n"
     ]
    }
   ],
   "source": [
    "## next will try the bayesian approach to double check. functions used are previously definied in Statistical Analysis #1\n",
    "pool = df[df.poolcnt == 1 ]\n",
    "deck = df[df.decktypeid > 1 ]\n",
    "mean_pool = np.mean(pool.taxvaluedollarcnt)\n",
    "mean_deck = np.mean(deck.taxvaluedollarcnt)\n",
    "\n",
    "\n",
    "# Compute difference of mean impact force from experiment: empirical_diff_means\n",
    "empirical_diff_means = diff_of_means(pool['taxvaluedollarcnt'], deck['taxvaluedollarcnt'])\n",
    "\n",
    "# Draw 10,000 permutation replicates: perm_replicates\n",
    "perm_replicates = draw_perm_reps(pool['taxvaluedollarcnt'], deck['taxvaluedollarcnt'],\n",
    "                                 diff_of_means, size=10000)\n",
    "\n",
    "# Compute p-value: p\n",
    "p = float(np.sum(perm_replicates >= empirical_diff_means)) / float(len(perm_replicates))\n",
    "\n",
    "# Print the result\n",
    "print('p-value =', p)\n",
    "print mean_pool\n",
    "print mean_deck"
   ]
  },
  {
   "cell_type": "code",
   "execution_count": null,
   "metadata": {
    "collapsed": true
   },
   "outputs": [],
   "source": []
  },
  {
   "cell_type": "code",
   "execution_count": null,
   "metadata": {
    "collapsed": true
   },
   "outputs": [],
   "source": []
  },
  {
   "cell_type": "code",
   "execution_count": null,
   "metadata": {
    "collapsed": true
   },
   "outputs": [],
   "source": []
  },
  {
   "cell_type": "markdown",
   "metadata": {},
   "source": [
    "Statistical Analysis #4: Is the mean housing price of houses with greater than the average number of bathrooms the same price as houses with greater than the average number of bedrooms? "
   ]
  },
  {
   "cell_type": "markdown",
   "metadata": {},
   "source": [
    "Result: Based on my findings, it can be said with a 99% significance level that houses with more than the average number of bathrooms have different prices than houses with more than the average number of bedrooms. "
   ]
  },
  {
   "cell_type": "code",
   "execution_count": 83,
   "metadata": {},
   "outputs": [
    {
     "name": "stdout",
     "output_type": "stream",
     "text": [
      "2.23445193776\n",
      "3.12374751019\n"
     ]
    }
   ],
   "source": [
    "# exploratory analysis and settingn up datasets\n",
    "avg_bathroomcnt = np.mean(df.bathroomcnt)\n",
    "avg_bedroomcnt  = np.mean(df.bedroomcnt)\n",
    "above_avg_bathroomcnt = df[df.bathroomcnt > avg_bathroomcnt]\n",
    "above_avg_bedroomcnt = df[df.bedroomcnt > avg_bedroomcnt]\n",
    "\n",
    "\n",
    "print avg_bathroomcnt\n",
    "print avg_bedroomcnt"
   ]
  },
  {
   "cell_type": "code",
   "execution_count": 84,
   "metadata": {},
   "outputs": [
    {
     "name": "stdout",
     "output_type": "stream",
     "text": [
      "the t-score is 9.92487521911\n",
      "the p-value is 3.24508363931e-23\n",
      "the mean housing price of houses with above average bathrooms is  658.250168622\n",
      "the mean housing price of houses with above average bedrooms is  595.7339425\n"
     ]
    }
   ],
   "source": [
    "# will use the frequentist approach using a t test\n",
    "mean_above_avg_bathroomcnt = np.mean(above_avg_bathroomcnt.taxvaluedollarcnt)\n",
    "mean_above_avg_bedroomcnt = np.mean(above_avg_bedroomcnt.taxvaluedollarcnt)\n",
    "std_above_avg_bathroomcnt =  np.std(above_avg_bathroomcnt['taxvaluedollarcnt'])\n",
    "std_above_avg_bedroomcnt = np.std(above_avg_bedroomcnt['taxvaluedollarcnt'])\n",
    "numerator = mean_above_avg_bathroomcnt - mean_above_avg_bedroomcnt\n",
    "denominator = np.sqrt((std_above_avg_bathroomcnt**2/len(above_avg_bathroomcnt['taxvaluedollarcnt'])) + (std_above_avg_bedroomcnt**2/len(above_avg_bedroomcnt['taxvaluedollarcnt'])))\n",
    "t = numerator / denominator\n",
    "p_values_t = st.norm.sf(abs(t))*2\n",
    "\n",
    "print 'the t-score is', t\n",
    "print 'the p-value is', p_values_t\n",
    "print 'the mean housing price of houses with above average bathrooms is ', mean_above_avg_bathroomcnt\n",
    "print 'the mean housing price of houses with above average bedrooms is ', mean_above_avg_bedroomcnt"
   ]
  },
  {
   "cell_type": "code",
   "execution_count": 85,
   "metadata": {},
   "outputs": [
    {
     "name": "stdout",
     "output_type": "stream",
     "text": [
      "('p-value =', 0.0)\n",
      "658.250168622\n",
      "595.7339425\n"
     ]
    }
   ],
   "source": [
    "## next will try the bayesian approach to double check. functions used are previously definied in Statistical Analysis #1\n",
    "\n",
    "# Compute difference of mean impact force from experiment: empirical_diff_means\n",
    "empirical_diff_means = diff_of_means(above_avg_bathroomcnt['taxvaluedollarcnt'], above_avg_bedroomcnt['taxvaluedollarcnt'])\n",
    "\n",
    "# Draw 10,000 permutation replicates: perm_replicates\n",
    "perm_replicates = draw_perm_reps(above_avg_bathroomcnt['taxvaluedollarcnt'], above_avg_bedroomcnt['taxvaluedollarcnt'],\n",
    "                                 diff_of_means, size=10000)\n",
    "\n",
    "# Compute p-value: p\n",
    "p = float(np.sum(perm_replicates >= empirical_diff_means)) / float(len(perm_replicates))\n",
    "\n",
    "# Print the result\n",
    "print('p-value =', p)\n",
    "print mean_above_avg_bathroomcnt\n",
    "print mean_above_avg_bedroomcnt"
   ]
  },
  {
   "cell_type": "code",
   "execution_count": null,
   "metadata": {
    "collapsed": true
   },
   "outputs": [],
   "source": []
  },
  {
   "cell_type": "code",
   "execution_count": null,
   "metadata": {
    "collapsed": true
   },
   "outputs": [],
   "source": []
  },
  {
   "cell_type": "code",
   "execution_count": null,
   "metadata": {
    "collapsed": true
   },
   "outputs": [],
   "source": []
  }
 ],
 "metadata": {
  "kernelspec": {
   "display_name": "Python 2",
   "language": "python",
   "name": "python2"
  },
  "language_info": {
   "codemirror_mode": {
    "name": "ipython",
    "version": 2
   },
   "file_extension": ".py",
   "mimetype": "text/x-python",
   "name": "python",
   "nbconvert_exporter": "python",
   "pygments_lexer": "ipython2",
   "version": "2.7.13"
  }
 },
 "nbformat": 4,
 "nbformat_minor": 2
}
